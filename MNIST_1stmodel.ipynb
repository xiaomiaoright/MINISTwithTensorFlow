{
 "cells": [
  {
   "cell_type": "code",
   "execution_count": 1,
   "metadata": {},
   "outputs": [],
   "source": [
    "# Import Packages\n",
    "import numpy as np\n",
    "import tensorflow as tf\n",
    "import tensorflow_datasets as tfds"
   ]
  },
  {
   "cell_type": "code",
   "execution_count": 2,
   "metadata": {},
   "outputs": [
    {
     "output_type": "execute_result",
     "data": {
      "text/plain": "tfds.core.DatasetInfo(\n    name='mnist',\n    version=3.0.1,\n    description='The MNIST database of handwritten digits.',\n    homepage='http://yann.lecun.com/exdb/mnist/',\n    features=FeaturesDict({\n        'image': Image(shape=(28, 28, 1), dtype=tf.uint8),\n        'label': ClassLabel(shape=(), dtype=tf.int64, num_classes=10),\n    }),\n    total_num_examples=70000,\n    splits={\n        'test': 10000,\n        'train': 60000,\n    },\n    supervised_keys=('image', 'label'),\n    citation=\"\"\"@article{lecun2010mnist,\n      title={MNIST handwritten digit database},\n      author={LeCun, Yann and Cortes, Corinna and Burges, CJ},\n      journal={ATT Labs [Online]. Available: http://yann. lecun. com/exdb/mnist},\n      volume={2},\n      year={2010}\n    }\"\"\",\n    redistribution_info=,\n)"
     },
     "metadata": {},
     "execution_count": 2
    }
   ],
   "source": [
    "# Load dataset\n",
    "mnist_dataset, mnist_info = tfds.load('mnist', with_info= True, as_supervised= True)\n",
    "\n",
    "mnist_info"
   ]
  },
  {
   "cell_type": "code",
   "execution_count": 3,
   "metadata": {},
   "outputs": [],
   "source": [
    "# Extract traning set and test set \n",
    "mnist_train = mnist_dataset['train']\n",
    "mnist_test = mnist_dataset['test']"
   ]
  },
  {
   "cell_type": "code",
   "execution_count": 6,
   "metadata": {},
   "outputs": [],
   "source": [
    "# Split training set into training set and validation set\n",
    "# Validation set is used to validate model and prevent overfitting\n",
    "num_validation_samples = 0.1 * mnist_info.splits['train'].num_examples\n",
    "\n",
    "# Cast the sample numbers into an int number\n",
    "num_validation_samples = tf.cast(num_validation_samples, tf.int64)\n",
    "\n",
    "# Get the number of test samples\n",
    "num_test_samples = mnist_info.splits['test'].num_examples\n",
    "num_test_samples = tf.cast(num_test_samples, tf.int64)"
   ]
  },
  {
   "cell_type": "markdown",
   "metadata": {},
   "source": [
    "# Data Processing"
   ]
  },
  {
   "cell_type": "code",
   "execution_count": 8,
   "metadata": {},
   "outputs": [],
   "source": [
    "# Processing data\n",
    "# Scale\n",
    "def scale (image, label):\n",
    "    image = tf.cast(image, tf.float32)\n",
    "    image = image/255.\n",
    "\n",
    "    return image, label\n",
    "# the method .map() allows us to apply a custom transformation to a given dataset\n",
    "scaled_training_and_validation_data = mnist_train.map(scale)\n",
    "test_data = mnist_test.map(scale)\n",
    "\n",
    "# Shuffle data\n",
    "BUFFER_SIZE = 10000\n",
    "shuffled_train_and_validation_data = scaled_training_and_validation_data.shuffle(BUFFER_SIZE)"
   ]
  },
  {
   "cell_type": "code",
   "execution_count": 9,
   "metadata": {},
   "outputs": [],
   "source": [
    "# Get validation dataset\n",
    "validation_data = shuffled_train_and_validation_data.take(num_validation_samples)\n",
    "\n",
    "# Get training dataset\n",
    "train_data = shuffled_train_and_validation_data.skip(num_validation_samples)"
   ]
  },
  {
   "cell_type": "code",
   "execution_count": 10,
   "metadata": {},
   "outputs": [],
   "source": [
    "# Determine train and validation batches\n",
    "BATCH_SIZE = 100\n",
    "\n",
    "train_data = train_data.batch(BATCH_SIZE)\n",
    "\n",
    "validation_data = validation_data.batch(num_validation_samples)\n",
    "\n",
    "test_data = test_data.batch(num_test_samples)\n",
    "\n",
    "validation_inputs, validation_targets = next(iter(validation_data))"
   ]
  },
  {
   "cell_type": "markdown",
   "metadata": {},
   "source": [
    "# Create Model"
   ]
  },
  {
   "cell_type": "markdown",
   "metadata": {},
   "source": [
    "## Outline the model: \n",
    "* input layer with layers.Flatten\n",
    "* 2 hidden layers with layers.Dense\n",
    "* out layer with layers.Dense\n"
   ]
  },
  {
   "cell_type": "code",
   "execution_count": 13,
   "metadata": {},
   "outputs": [],
   "source": [
    "input_size = 784 # 28*28 after flatten\n",
    "output_size = 10\n",
    "\n",
    "# set hindden layer size\n",
    "hidden_layer_size = 100\n",
    "\n",
    "# output layer is to categories, so softmax is used as activiation funtion\n",
    "model = tf.keras.Sequential([\n",
    "    tf.keras.layers.Flatten(input_shape = (28,28,1)),\n",
    "    tf.keras.layers.Dense(hidden_layer_size, activation='relu'),\n",
    "    tf.keras.layers.Dense(hidden_layer_size, activation='relu'),\n",
    "    tf.keras.layers.Dense(output_size, activation='softmax')\n",
    "])"
   ]
  },
  {
   "cell_type": "markdown",
   "metadata": {},
   "source": [
    "## Set objective function and optimization function by compile model\n",
    "* model.compile(optimizer=, loss=)\n",
    "* loss function for classification: cross entory\n",
    "* optimization function: 'adam'"
   ]
  },
  {
   "cell_type": "code",
   "execution_count": 17,
   "metadata": {},
   "outputs": [],
   "source": [
    "model.compile(optimizer='adam', loss='sparse_categorical_crossentropy', metrics=['accuracy'])"
   ]
  },
  {
   "cell_type": "markdown",
   "metadata": {},
   "source": [
    "## Train the model\n",
    "* set epochs\n",
    "* fit with training data, validation_data"
   ]
  },
  {
   "cell_type": "code",
   "execution_count": 20,
   "metadata": {},
   "outputs": [
    {
     "output_type": "stream",
     "name": "stdout",
     "text": "Epoch 1/20\n540/540 - 4s - loss: 0.0043 - accuracy: 0.9984 - val_loss: 0.0060 - val_accuracy: 0.9982\nEpoch 2/20\n540/540 - 4s - loss: 0.0043 - accuracy: 0.9986 - val_loss: 0.0052 - val_accuracy: 0.9982\nEpoch 3/20\n540/540 - 3s - loss: 0.0030 - accuracy: 0.9992 - val_loss: 0.0018 - val_accuracy: 0.9992\nEpoch 4/20\n540/540 - 4s - loss: 0.0027 - accuracy: 0.9990 - val_loss: 0.0014 - val_accuracy: 0.9993\nEpoch 5/20\n540/540 - 4s - loss: 0.0069 - accuracy: 0.9979 - val_loss: 0.0071 - val_accuracy: 0.9973\nEpoch 6/20\n540/540 - 4s - loss: 0.0044 - accuracy: 0.9984 - val_loss: 0.0041 - val_accuracy: 0.9982\nEpoch 7/20\n540/540 - 4s - loss: 0.0053 - accuracy: 0.9984 - val_loss: 0.0164 - val_accuracy: 0.9948\nEpoch 8/20\n540/540 - 4s - loss: 0.0031 - accuracy: 0.9990 - val_loss: 0.0013 - val_accuracy: 0.9998\nEpoch 9/20\n540/540 - 4s - loss: 0.0024 - accuracy: 0.9992 - val_loss: 4.7447e-04 - val_accuracy: 1.0000\nEpoch 10/20\n540/540 - 4s - loss: 0.0069 - accuracy: 0.9980 - val_loss: 0.0096 - val_accuracy: 0.9978\nEpoch 11/20\n540/540 - 4s - loss: 0.0041 - accuracy: 0.9986 - val_loss: 0.0012 - val_accuracy: 0.9997\nEpoch 12/20\n540/540 - 4s - loss: 0.0065 - accuracy: 0.9980 - val_loss: 0.0032 - val_accuracy: 0.9990\nEpoch 13/20\n540/540 - 4s - loss: 0.0032 - accuracy: 0.9991 - val_loss: 8.2216e-04 - val_accuracy: 0.9997\nEpoch 14/20\n540/540 - 4s - loss: 0.0031 - accuracy: 0.9990 - val_loss: 0.0069 - val_accuracy: 0.9985\nEpoch 15/20\n540/540 - 4s - loss: 0.0046 - accuracy: 0.9984 - val_loss: 0.0042 - val_accuracy: 0.9983\nEpoch 16/20\n540/540 - 4s - loss: 0.0027 - accuracy: 0.9991 - val_loss: 0.0088 - val_accuracy: 0.9978\nEpoch 17/20\n540/540 - 4s - loss: 0.0068 - accuracy: 0.9980 - val_loss: 0.0018 - val_accuracy: 0.9995\nEpoch 18/20\n540/540 - 4s - loss: 0.0024 - accuracy: 0.9992 - val_loss: 0.0016 - val_accuracy: 0.9997\nEpoch 19/20\n540/540 - 4s - loss: 8.5594e-04 - accuracy: 0.9997 - val_loss: 0.0072 - val_accuracy: 0.9975\nEpoch 20/20\n540/540 - 4s - loss: 0.0069 - accuracy: 0.9980 - val_loss: 0.0068 - val_accuracy: 0.9975\n"
    },
    {
     "output_type": "execute_result",
     "data": {
      "text/plain": "<tensorflow.python.keras.callbacks.History at 0x202271f1a90>"
     },
     "metadata": {},
     "execution_count": 20
    }
   ],
   "source": [
    "# NUM_EPOCHS = 50\n",
    "NUM_EPOCHS = 20\n",
    "\n",
    "model.fit(train_data, epochs=NUM_EPOCHS, validation_data=(validation_inputs,validation_targets), verbose=2)"
   ]
  },
  {
   "cell_type": "markdown",
   "metadata": {},
   "source": [
    "After 21 epochs, the validation_loss starts to increase, indicating the model is overfitted. "
   ]
  },
  {
   "cell_type": "markdown",
   "metadata": {},
   "source": [
    "## Test the model with model.evalute()"
   ]
  },
  {
   "cell_type": "code",
   "execution_count": 21,
   "metadata": {},
   "outputs": [
    {
     "output_type": "stream",
     "name": "stdout",
     "text": "1/1 [==============================] - 0s 2ms/step - loss: 0.1746 - accuracy: 0.9785\n"
    }
   ],
   "source": [
    "test_loss, test_accuracy = model.evaluate(test_data)"
   ]
  },
  {
   "cell_type": "code",
   "execution_count": 22,
   "metadata": {},
   "outputs": [
    {
     "output_type": "stream",
     "name": "stdout",
     "text": "0.17459875345230103\n0.9785000085830688\n"
    }
   ],
   "source": [
    "print(test_loss)\n",
    "print(test_accuracy)"
   ]
  },
  {
   "cell_type": "code",
   "execution_count": null,
   "metadata": {},
   "outputs": [],
   "source": []
  }
 ],
 "metadata": {
  "language_info": {
   "codemirror_mode": {
    "name": "ipython",
    "version": 3
   },
   "file_extension": ".py",
   "mimetype": "text/x-python",
   "name": "python",
   "nbconvert_exporter": "python",
   "pygments_lexer": "ipython3",
   "version": "3.8.2-final"
  },
  "orig_nbformat": 2,
  "kernelspec": {
   "name": "python3",
   "display_name": "Python 3"
  }
 },
 "nbformat": 4,
 "nbformat_minor": 2
}